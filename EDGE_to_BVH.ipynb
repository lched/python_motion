{
 "cells": [
  {
   "cell_type": "markdown",
   "metadata": {},
   "source": [
    "# Converting AFTER SMPL->BVH"
   ]
  },
  {
   "cell_type": "code",
   "execution_count": null,
   "metadata": {},
   "outputs": [],
   "source": [
    "from pathlib import Path\n",
    "\n",
    "import numpy as np\n",
    "from Motion.smpl import load_smpl, smpl_to_bvh_data\n",
    "from Motion.smpl_utils.utils import bvh\n",
    "from scipy.spatial.transform import Rotation as R\n",
    "\n",
    "pkl_file = \"ref_Zup.pkl\"\n",
    "smpl_dict = load_smpl(pkl_file)\n",
    "\n",
    "# Convert back to Y-up for rendering in blender and three.js\n",
    "rotation = R.from_quat(np.array([ -0.7071068, 0, 0, 0.7071068 ])) # -90 degrees about the x axis\n",
    "root_rotvec = smpl_dict[\"smpl_poses\"][:, 0]\n",
    "root_rotvec = (rotation * R.from_rotvec(root_rotvec)).as_rotvec()\n",
    "bvh_data = smpl_to_bvh_data(smpl_dict, frametime=1 / 30)\n",
    "root_euler = R.from_rotvec(root_rotvec).as_euler(bvh_data[\"order\"], degrees=True)\n",
    "bvh_data[\"rotations\"][:, 0] = root_euler\n",
    "\n",
    "smpl_trans_y_up = np.copy(bvh_data[\"positions\"])\n",
    "# For the positions, swap Y and Z\n",
    "smpl_trans_y_up[..., 1] = bvh_data[\"positions\"][..., 2]  # don't forget the minus!!!\n",
    "smpl_trans_y_up[..., 2] = -bvh_data[\"positions\"][..., 1]\n",
    "bvh_data[\"positions\"] = smpl_trans_y_up\n",
    "\n",
    "bvh.save(f\"{Path(pkl_file).stem}_after.bvh\", bvh_data)"
   ]
  },
  {
   "cell_type": "markdown",
   "metadata": {},
   "source": [
    "# Converting BEFORE SMPL->BVH"
   ]
  },
  {
   "cell_type": "code",
   "execution_count": null,
   "metadata": {},
   "outputs": [],
   "source": [
    "from glob import glob\n",
    "from pathlib import Path\n",
    "\n",
    "import numpy as np\n",
    "from Motion import BVH\n",
    "from Motion.smpl import load_smpl, smpl_to_bvh_data\n",
    "from Motion.smpl_utils.utils import bvh\n",
    "from scipy.spatial.transform import Rotation as R\n",
    "\n",
    "pkl_file = \"ref_Zup.pkl\"\n",
    "smpl_dict = load_smpl(pkl_file)\n",
    "\n",
    "# Convert back to Y-up for rendering in blender and three.js\n",
    "rotation = R.from_quat(np.array([ -0.7071068, 0, 0, 0.7071068 ])) # -90 degrees about the x axis\n",
    "root_rotvec = smpl_dict[\"smpl_poses\"][:, 0]\n",
    "root_rotvec = (rotation * R.from_rotvec(root_rotvec)).as_rotvec()\n",
    "smpl_dict[\"smpl_poses\"][:, 0] = root_rotvec\n",
    "\n",
    "# For the positions, swap Y and Z\n",
    "smpl_trans_y_up = np.copy(smpl_dict[\"smpl_trans\"])\n",
    "smpl_trans_y_up[..., 1] = smpl_dict[\"smpl_trans\"][..., 2]\n",
    "smpl_trans_y_up[..., 2] = -smpl_dict[\"smpl_trans\"][..., 1] # don't forget the minus!!!\n",
    "smpl_dict[\"smpl_trans\"] = smpl_trans_y_up\n",
    "\n",
    "bvh_data = smpl_to_bvh_data(smpl_dict, frametime=1 / 30)\n",
    "bvh.save(f\"{Path(pkl_file).stem}_before.bvh\", bvh_data)"
   ]
  }
 ],
 "metadata": {
  "kernelspec": {
   "display_name": "edge",
   "language": "python",
   "name": "python3"
  },
  "language_info": {
   "codemirror_mode": {
    "name": "ipython",
    "version": 3
   },
   "file_extension": ".py",
   "mimetype": "text/x-python",
   "name": "python",
   "nbconvert_exporter": "python",
   "pygments_lexer": "ipython3",
   "version": "3.9.18"
  }
 },
 "nbformat": 4,
 "nbformat_minor": 2
}
