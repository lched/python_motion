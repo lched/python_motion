{
 "cells": [
  {
   "cell_type": "markdown",
   "metadata": {},
   "source": [
    "# Read BVH file ✓"
   ]
  },
  {
   "cell_type": "code",
   "execution_count": null,
   "metadata": {},
   "outputs": [],
   "source": [
    "from Motion.BVH import load\n",
    "\n",
    "animation, joints_names, frametime = load(\"./test.bvh\")"
   ]
  },
  {
   "cell_type": "markdown",
   "metadata": {},
   "source": [
    "# Write BVH file ✓"
   ]
  },
  {
   "cell_type": "code",
   "execution_count": null,
   "metadata": {},
   "outputs": [],
   "source": [
    "from Motion.BVH import save\n",
    "\n",
    "save(filename=\"test.bvh\", anim=animation, names=joints_names, frametime=frametime)"
   ]
  },
  {
   "cell_type": "markdown",
   "metadata": {},
   "source": [
    "# Edit BVH file (center animation) ✓"
   ]
  },
  {
   "cell_type": "code",
   "execution_count": null,
   "metadata": {},
   "outputs": [],
   "source": [
    "from Motion.BVH import load, save\n",
    "\n",
    "animation, joints_names, frametime = load(\"./03_LPDI_retargeted/Electron_Phrase_01_000001_001800.bvh\")\n",
    "# animation.positions[:, :, [0, 2]] -= animation.positions[0, 0, [0, 2]]\n",
    "# animation.positions[:, 0] -= [0, 80, 0]\n",
    "save(\n",
    "    filename=\"centered.bvh\",\n",
    "    anim=animation,\n",
    "    names=joints_names,\n",
    "    frametime=frametime,\n",
    "    order=\"xyz\",\n",
    ")"
   ]
  },
  {
   "cell_type": "markdown",
   "metadata": {},
   "source": [
    "Rotate BVH file from Z-up to Y-up (I think this works!!)"
   ]
  },
  {
   "cell_type": "code",
   "execution_count": null,
   "metadata": {},
   "outputs": [],
   "source": [
    "from Motion.BVH import load, save\n",
    "from Motion.Quaternions import Quaternions\n",
    "import numpy as np\n",
    "\n",
    "animation, joints_names, frametime = load(\"./03_LPDI_retargeted/RC_SET_A_01_005401_005803.bvh\", ignore_leaf_bones=True, world=False)\n",
    "\n",
    "# Rotations: rotate the root bone by 90\n",
    "rotation = Quaternions.from_euler(np.radians(np.array([-90, 0, 0])), order=\"xyz\")\n",
    "root_rot = animation.rotations[:, 0]\n",
    "root_rot = root_rot * rotation\n",
    "animation.rotations[:, 0] = root_rot\n",
    "\n",
    "# Positions\n",
    "positions_y_up = np.copy(animation.positions[:, 0])\n",
    "positions_y_up[..., 1] = animation.positions[:, 0, 2]\n",
    "positions_y_up[..., 2] = -animation.positions[:, 0, 1]\n",
    "animation.positions[:, 0] = positions_y_up\n",
    "\n",
    "save(\n",
    "    filename=\"rotated_Yup.bvh\",\n",
    "    anim=animation,\n",
    "    names=joints_names,\n",
    "    frametime=frametime,\n",
    "    order=\"yzx\",\n",
    ")"
   ]
  },
  {
   "cell_type": "code",
   "execution_count": null,
   "metadata": {},
   "outputs": [],
   "source": [
    "animation.positions.shape"
   ]
  },
  {
   "cell_type": "markdown",
   "metadata": {},
   "source": [
    "# Convert BVH data to XYZ positions ✓"
   ]
  },
  {
   "cell_type": "code",
   "execution_count": null,
   "metadata": {},
   "outputs": [],
   "source": [
    "from Motion.Animation import positions_global\n",
    "from Motion.BVH import load\n",
    "\n",
    "animation, joints_name, frametime = load(\"./test.bvh\")\n",
    "anim_xyz = positions_global(animation)\n",
    "print(anim_xyz)"
   ]
  },
  {
   "cell_type": "markdown",
   "metadata": {},
   "source": [
    "# Get kinematic chain from BVH ✓"
   ]
  },
  {
   "cell_type": "code",
   "execution_count": null,
   "metadata": {},
   "outputs": [],
   "source": [
    "from Motion.BVH import load\n",
    "from Motion.AnimationStructure import get_kinematic_chain\n",
    "\n",
    "animation, joints_name, frametime = load(\"./test.bvh\")\n",
    "kinematic_chain = get_kinematic_chain(animation.parents)\n",
    "print(kinematic_chain)"
   ]
  },
  {
   "cell_type": "markdown",
   "metadata": {},
   "source": [
    "# Visualize motion ✓"
   ]
  },
  {
   "cell_type": "code",
   "execution_count": null,
   "metadata": {},
   "outputs": [],
   "source": [
    "from Motion.Animation import positions_global\n",
    "from Motion.AnimationStructure import get_kinematic_chain\n",
    "from Motion.BVH import load\n",
    "from Motion.plot_script import plot_3d_motion\n",
    "\n",
    "\n",
    "animation, joints_name, frametime = load(\"./test.bvh\")\n",
    "skeleton = get_kinematic_chain(animation.parents)\n",
    "anim_xyz = positions_global(animation)\n",
    "\n",
    "plot_3d_motion(\"test_vis.mp4\", skeleton, anim_xyz[:600], title=\"Test viz\", fps=100)"
   ]
  },
  {
   "cell_type": "markdown",
   "metadata": {},
   "source": [
    "# Convert angles to various representations\n",
    "\n",
    "Be careful with the order of the axes in the BVH file you're using!!"
   ]
  },
  {
   "cell_type": "code",
   "execution_count": null,
   "metadata": {},
   "outputs": [],
   "source": [
    "import torch\n",
    "import Motion.transforms as tr\n",
    "from Motion.Animation import Animation\n",
    "from Motion.BVH import load, save\n",
    "from Motion.Quaternions import Quaternions\n",
    "\n",
    "order = \"zyx\"\n",
    "animation, joints_names, frametime = load(\"test.bvh\")\n",
    "n_frames, n_joints = animation.shape\n",
    "print(f\"Animation loaded\\nn frames: {n_frames}\\tn_joints: {n_joints}\")\n",
    "\n",
    "# animation.rotations is by default represented as Quaternions\n",
    "rotations = torch.tensor(animation.rotations.qs)\n",
    "# print(\"Quaternions shape:\", rotations.shape)\n",
    "\n",
    "# # # Convert quaternions to 6D representation...\n",
    "# rotations = tr.quat2repr6d(rotations)\n",
    "# print(\"Repr6d shape:\", rotations.shape)\n",
    "\n",
    "# # ... and back to quaternions\n",
    "# rotations = tr.repr6d2quat(rotations)\n",
    "\n",
    "# # and now to Euler angles\n",
    "# rotations = tr.quat2euler(rotations, order=\"xyz\", degrees=False)\n",
    "# print(\"Euler shape:\", rotations.shape)\n",
    "\n",
    "# Now export back to BVH... and it should be the exact same :)\n",
    "new_anim = Animation(\n",
    "    animation.rotations,\n",
    "    animation.positions,\n",
    "    animation.orients,\n",
    "    animation.offsets,\n",
    "    animation.parents,\n",
    ")\n",
    "save(\"test_angular_conversions.bvh\", animation, joints_names, frametime)"
   ]
  },
  {
   "cell_type": "markdown",
   "metadata": {},
   "source": [
    "# Export to and import from SMPL format ✓\n",
    "\n",
    "**!! This only works with Y-up convention!**\n",
    "\n",
    "PKL -> BVH ✓"
   ]
  },
  {
   "cell_type": "code",
   "execution_count": null,
   "metadata": {},
   "outputs": [],
   "source": [
    "from pathlib import Path\n",
    "from Motion.smpl import load_smpl, smpl_to_bvh_data\n",
    "from Motion.smpl_utils.utils import bvh\n",
    "\n",
    "smpl_file = \"chopin_gens/NocturneB49_v1.pkl\"\n",
    "smpl_data = load_smpl(smpl_file)\n",
    "smpl_data[\"smpl_trans\"] *= 100\n",
    "bvh_data = smpl_to_bvh_data(smpl_data, frametime=1/30)\n",
    "bvh.save(f\"{Path(smpl_file).stem}_converted.bvh\", bvh_data)"
   ]
  },
  {
   "cell_type": "markdown",
   "metadata": {},
   "source": [
    "BVH -> PKL -> BVH ✓"
   ]
  },
  {
   "cell_type": "code",
   "execution_count": null,
   "metadata": {},
   "outputs": [],
   "source": [
    "from Motion.smpl import smpl_to_bvh_data, bvh_data_to_smpl\n",
    "from Motion.smpl_utils.utils import bvh\n",
    "\n",
    "bvh_file = \"edge_aistpp_converted.bvh\"\n",
    "bvh_data = bvh.load(bvh_file)\n",
    "\n",
    "smpl_data = bvh_data_to_smpl(bvh_data)\n",
    "backtobvhdata = smpl_to_bvh_data(smpl_data, frametime=1 / 60)\n",
    "bvh.save(\"tothefutureandback.bvh\", backtobvhdata)"
   ]
  },
  {
   "cell_type": "markdown",
   "metadata": {},
   "source": [
    "To do:\n",
    " - [ ] Forward Kinematics :) \n",
    " - [ ] Unify everything. For instance, transforms should accept numpy arrays and not just torch tensors and it should be possible to convert directly from SMPL to Animation object and back."
   ]
  }
 ],
 "metadata": {
  "kernelspec": {
   "display_name": "edge",
   "language": "python",
   "name": "python3"
  },
  "language_info": {
   "codemirror_mode": {
    "name": "ipython",
    "version": 3
   },
   "file_extension": ".py",
   "mimetype": "text/x-python",
   "name": "python",
   "nbconvert_exporter": "python",
   "pygments_lexer": "ipython3",
   "version": "3.9.18"
  }
 },
 "nbformat": 4,
 "nbformat_minor": 2
}
