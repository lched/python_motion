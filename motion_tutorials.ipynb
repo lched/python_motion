{
 "cells": [
  {
   "cell_type": "markdown",
   "metadata": {},
   "source": [
    "# Read BVH file ✓"
   ]
  },
  {
   "cell_type": "code",
   "execution_count": null,
   "metadata": {},
   "outputs": [],
   "source": [
    "from Motion.BVH import load\n",
    "\n",
    "animation, joints_names, frametime = load(\"./test.bvh\")"
   ]
  },
  {
   "cell_type": "markdown",
   "metadata": {},
   "source": [
    "# Write BVH file ✓"
   ]
  },
  {
   "cell_type": "code",
   "execution_count": null,
   "metadata": {},
   "outputs": [],
   "source": [
    "from Motion.BVH import save\n",
    "\n",
    "save(filename=\"test.bvh\", anim=animation, names=joints_names, frametime=frametime)"
   ]
  },
  {
   "cell_type": "markdown",
   "metadata": {},
   "source": [
    "# Edit BVH file (center animation) ✓"
   ]
  },
  {
   "cell_type": "code",
   "execution_count": null,
   "metadata": {},
   "outputs": [],
   "source": [
    "from Motion.BVH import load, save\n",
    "\n",
    "animation, joints_names, frametime = load(\"./test.bvh\")\n",
    "animation.positions[:, :, [0, 2]] -= animation.positions[0, 0, [0, 2]]\n",
    "save(filename=\"centered.bvh\", anim=animation, names=joints_names, frametime=frametime)"
   ]
  },
  {
   "cell_type": "markdown",
   "metadata": {},
   "source": [
    "# Convert BVH data to XYZ positions ✓"
   ]
  },
  {
   "cell_type": "code",
   "execution_count": null,
   "metadata": {},
   "outputs": [],
   "source": [
    "from Motion.Animation import positions_global\n",
    "from Motion.BVH import load\n",
    "\n",
    "animation, joints_name, frametime = load(\"./test.bvh\")\n",
    "anim_xyz = positions_global(animation)\n",
    "print(anim_xyz)"
   ]
  },
  {
   "cell_type": "markdown",
   "metadata": {},
   "source": [
    "# Get kinematic chain from BVH ✓"
   ]
  },
  {
   "cell_type": "code",
   "execution_count": null,
   "metadata": {},
   "outputs": [],
   "source": [
    "from Motion.BVH import load\n",
    "from Motion.AnimationStructure import get_kinematic_chain\n",
    "\n",
    "animation, joints_name, frametime = load(\"./test.bvh\")\n",
    "kinematic_chain = get_kinematic_chain(animation.parents)\n",
    "print(kinematic_chain)"
   ]
  },
  {
   "cell_type": "markdown",
   "metadata": {},
   "source": [
    "# Visualize motion ✓"
   ]
  },
  {
   "cell_type": "code",
   "execution_count": null,
   "metadata": {},
   "outputs": [],
   "source": [
    "from Motion.Animation import positions_global\n",
    "from Motion.AnimationStructure import get_kinematic_chain\n",
    "from Motion.BVH import load\n",
    "from Motion.plot_script import plot_3d_motion\n",
    "\n",
    "\n",
    "animation, joints_name, frametime = load(\"./test.bvh\")\n",
    "skeleton = get_kinematic_chain(animation.parents)\n",
    "anim_xyz = positions_global(animation)\n",
    "\n",
    "plot_3d_motion(\"test_vis.mp4\", skeleton, anim_xyz[:600], title=\"Test viz\", fps=100)"
   ]
  },
  {
   "cell_type": "markdown",
   "metadata": {},
   "source": [
    "# Convert angles to various representations ✓\n",
    "\n",
    "Be careful with the order of the axes in the BVH file you're using!!"
   ]
  },
  {
   "cell_type": "code",
   "execution_count": null,
   "metadata": {},
   "outputs": [],
   "source": [
    "import torch\n",
    "import Motion.transforms as tr\n",
    "from Motion.Animation import Animation\n",
    "from Motion.BVH import load, save\n",
    "from Motion.Quaternions import Quaternions\n",
    "\n",
    "order = \"zyx\"\n",
    "animation, joints_names, frametime = load('test.bvh')\n",
    "n_frames, n_joints = animation.shape\n",
    "print(f\"Animation loaded\\nn frames: {n_frames}\\tn_joints: {n_joints}\")\n",
    "\n",
    "# animation.rotations is by default represented as Quaternions\n",
    "rotations = torch.tensor(animation.rotations.qs)\n",
    "# print(\"Quaternions shape:\", rotations.shape)\n",
    "\n",
    "# # # Convert quaternions to 6D representation...\n",
    "# rotations = tr.quat2repr6d(rotations)\n",
    "# print(\"Repr6d shape:\", rotations.shape)\n",
    "\n",
    "# # ... and back to quaternions\n",
    "# rotations = tr.repr6d2quat(rotations)\n",
    "\n",
    "# # and now to Euler angles\n",
    "# rotations = tr.quat2euler(rotations, order=\"xyz\", degrees=False)\n",
    "# print(\"Euler shape:\", rotations.shape)\n",
    "\n",
    "# Now export back to BVH... and it should be the exact same :)\n",
    "new_anim = Animation(\n",
    "    animation.rotations,\n",
    "    animation.positions,\n",
    "    animation.orients,\n",
    "    animation.offsets,\n",
    "    animation.parents,\n",
    ")\n",
    "save(\"test_angular_conversions.bvh\", animation, joints_names, frametime)"
   ]
  },
  {
   "cell_type": "markdown",
   "metadata": {},
   "source": [
    "# With angle-axis representation"
   ]
  },
  {
   "cell_type": "code",
   "execution_count": null,
   "metadata": {},
   "outputs": [],
   "source": [
    "import torch\n",
    "import Motion.transforms as tr\n",
    "from Motion.Animation import Animation\n",
    "from Motion.Quaternions import Quaternions\n",
    "from Motion.BVH import load, save\n",
    "\n",
    "animation, joints_names, frametime = load(\"./test.bvh\")\n",
    "n_frames, n_joints = animation.shape\n",
    "\n",
    "aa_rotations = tr.quat2aa(torch.tensor(animation.rotations.qs))\n",
    "print(\"Axis-angle rotations (Rodrigues representation) shape\", aa_rotations.shape)\n",
    "\n",
    "# new_quats = Quaternions.from_angle_axis(aa_rotations.numpy(), axis=1)  #TODO: investigate how this would work\n",
    "new_quats = tr.aa2quat(aa_rotations)\n",
    "\n",
    "# Convert back to Quaternions and export back to a BVH\n",
    "new_anim = Animation(\n",
    "    Quaternions(new_quats.numpy()),\n",
    "    animation.positions,\n",
    "    animation.orients,\n",
    "    animation.offsets,\n",
    "    animation.parents,\n",
    ")\n",
    "save(\"test_axis_angle.bvh\", new_anim, joints_names, frametime)"
   ]
  },
  {
   "cell_type": "markdown",
   "metadata": {},
   "source": [
    "# XYZ to rotations"
   ]
  },
  {
   "cell_type": "code",
   "execution_count": null,
   "metadata": {},
   "outputs": [],
   "source": [
    "from Motion.Animation import Animation, positions_global\n",
    "from Motion.BVH import load, save\n",
    "from Motion.Quaternions import Quaternions\n",
    "\n",
    "\n",
    "animation, joints_name, frametime = load(\"./test.bvh\")\n",
    "anim_xyz = positions_global(animation)"
   ]
  },
  {
   "cell_type": "code",
   "execution_count": null,
   "metadata": {},
   "outputs": [],
   "source": [
    "# First try without optimization\n",
    "import numpy as np\n",
    "from scipy.spatial.transform import Rotation as R\n",
    "\n",
    "\n",
    "def compute_joint_rotations(anim_xyz, offsets, parents):\n",
    "    n_frames, n_joints, _ = anim_xyz.shape\n",
    "    rotations = np.zeros((n_frames, n_joints, 3))  # Store Euler angles\n",
    "\n",
    "    # Loop over frames\n",
    "    for f in range(n_frames):\n",
    "        for j in range(n_joints):\n",
    "            # Root joint (no parent)\n",
    "            if parents[j] == -1:\n",
    "                continue\n",
    "\n",
    "            # Compute the vector from parent to joint in current frame\n",
    "            parent_pos = anim_xyz[f, parents[j]]\n",
    "            joint_pos = anim_xyz[f, j]\n",
    "            current_vector = joint_pos - parent_pos\n",
    "\n",
    "            # Normalize the vector\n",
    "            current_vector /= np.linalg.norm(current_vector)\n",
    "\n",
    "            # Get the rest pose offset (direction of the joint in T-pose)\n",
    "            rest_vector = offsets[j]\n",
    "            rest_vector /= np.linalg.norm(rest_vector)\n",
    "\n",
    "            # Calculate the rotation matrix from rest pose to current pose\n",
    "            rot_matrix = compute_rotation_matrix(rest_vector, current_vector)\n",
    "\n",
    "            # Convert the rotation matrix to Euler angles\n",
    "            # Assuming XYZ convention for Euler angles\n",
    "            euler_angles = R.from_matrix(rot_matrix).as_euler(\"xyz\", degrees=True)\n",
    "\n",
    "            # Store the Euler angles\n",
    "            rotations[f, j] = euler_angles\n",
    "\n",
    "    return rotations\n",
    "\n",
    "\n",
    "def compute_rotation_matrix(v1, v2):\n",
    "    \"\"\"\n",
    "    Compute the rotation matrix that aligns vector v1 to v2.\n",
    "    \"\"\"\n",
    "    v1 = np.array(v1)\n",
    "    v2 = np.array(v2)\n",
    "\n",
    "    # Cross product to find the axis of rotation\n",
    "    axis = np.cross(v1, v2)\n",
    "    axis_norm = np.linalg.norm(axis)\n",
    "\n",
    "    # Check if the vectors are already aligned\n",
    "    if axis_norm == 0:\n",
    "        return np.eye(3)\n",
    "\n",
    "    axis /= axis_norm\n",
    "\n",
    "    # Angle between vectors\n",
    "    angle = np.arccos(np.dot(v1, v2))\n",
    "\n",
    "    # Use Rodrigues' rotation formula to compute the rotation matrix\n",
    "    K = np.array(\n",
    "        [[0, -axis[2], axis[1]], [axis[2], 0, -axis[0]], [-axis[1], axis[0], 0]]\n",
    "    )\n",
    "    rot_matrix = np.eye(3) + np.sin(angle) * K + (1 - np.cos(angle)) * np.dot(K, K)\n",
    "\n",
    "    return rot_matrix\n",
    "\n",
    "\n",
    "rotations = compute_joint_rotations(anim_xyz, animation.offsets, animation.parents)\n",
    "new_anim = Animation(\n",
    "    Quaternions.from_euler(np.deg2rad(rotations), order=\"xyz\", world=False),\n",
    "    animation.positions,\n",
    "    animation.orients,\n",
    "    animation.offsets,\n",
    "    animation.parents,\n",
    ")\n",
    "save(\"test_rot2xyz.bvh\", new_anim, joints_name, frametime)\n",
    "# not working for now..."
   ]
  },
  {
   "cell_type": "code",
   "execution_count": null,
   "metadata": {},
   "outputs": [],
   "source": [
    "# 2nd try with scipy optimization\n",
    "from scipy.optimize import minimize\n",
    "\n",
    "\n",
    "def objective_function(euler_angles, target_position, parent_position, offset):\n",
    "    \"\"\"\n",
    "    Objective function to minimize the difference between target_position (anim_xyz)\n",
    "    and the position reconstructed from the Euler angles and parent joint position.\n",
    "    \"\"\"\n",
    "    # Convert Euler angles to rotation matrix\n",
    "    rotation_matrix = R.from_euler(\"xyz\", euler_angles, degrees=True).as_matrix()\n",
    "\n",
    "    # Compute the predicted position of the joint\n",
    "    predicted_position = parent_position + np.dot(rotation_matrix, offset)\n",
    "\n",
    "    # Compute the error (distance between predicted and actual position)\n",
    "    error = np.linalg.norm(predicted_position - target_position)\n",
    "\n",
    "    return error\n",
    "\n",
    "\n",
    "def optimize_rotations(anim_xyz, offsets, parents):\n",
    "    n_frames, n_joints, _ = anim_xyz.shape\n",
    "    optimized_rotations = np.zeros((n_frames, n_joints, 3))  # Euler angles\n",
    "\n",
    "    # Loop over frames and optimize joint rotations\n",
    "    for f in range(n_frames):\n",
    "        for j in range(n_joints):\n",
    "            if parents[j] == -1:\n",
    "                continue\n",
    "\n",
    "            # Get the parent and target positions\n",
    "            parent_pos = anim_xyz[f, parents[j]]\n",
    "            target_pos = anim_xyz[f, j]\n",
    "\n",
    "            # Initial guess for the Euler angles\n",
    "            initial_guess = np.zeros(3)  # Start with no rotation\n",
    "\n",
    "            # Optimize Euler angles to minimize the error\n",
    "            result = minimize(\n",
    "                objective_function,\n",
    "                initial_guess,\n",
    "                args=(target_pos, parent_pos, offsets[j]),\n",
    "                method=\"BFGS\",\n",
    "            )\n",
    "\n",
    "            # Store the optimized Euler angles\n",
    "            optimized_rotations[f, j] = result.x\n",
    "\n",
    "    return optimized_rotations\n",
    "\n",
    "\n",
    "animation, joints_name, frametime = load(\"./test.bvh\")\n",
    "anim_xyz = positions_global(animation)\n",
    "rots = optimize_rotations(anim_xyz, animation.offsets, animation.parents)"
   ]
  }
 ],
 "metadata": {
  "kernelspec": {
   "display_name": "edge",
   "language": "python",
   "name": "python3"
  },
  "language_info": {
   "codemirror_mode": {
    "name": "ipython",
    "version": 3
   },
   "file_extension": ".py",
   "mimetype": "text/x-python",
   "name": "python",
   "nbconvert_exporter": "python",
   "pygments_lexer": "ipython3",
   "version": "3.9.21"
  }
 },
 "nbformat": 4,
 "nbformat_minor": 2
}
